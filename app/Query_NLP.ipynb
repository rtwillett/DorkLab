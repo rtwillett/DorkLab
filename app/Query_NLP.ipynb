{
 "cells": [
  {
   "cell_type": "code",
   "execution_count": 1,
   "id": "db7527d5",
   "metadata": {},
   "outputs": [],
   "source": [
    "from modules.build_substring import NERDString"
   ]
  },
  {
   "cell_type": "code",
   "execution_count": 33,
   "id": "50f198a1",
   "metadata": {},
   "outputs": [],
   "source": [
    "s = '''\n",
    "    Create a search for the scientist Ryan Willett who attended Columbia University in New York City in the United States after 2003-02-11\n",
    "''' "
   ]
  },
  {
   "cell_type": "code",
   "execution_count": 34,
   "id": "e36042e8",
   "metadata": {},
   "outputs": [],
   "source": [
    "ns = NERDString(s)"
   ]
  },
  {
   "cell_type": "code",
   "execution_count": 35,
   "id": "e4eae807",
   "metadata": {},
   "outputs": [
    {
     "data": {
      "text/plain": [
       "\n",
       "    Create a search for the scientist Ryan Willett who attended Columbia University in New York City in the United States after 2003-02-11"
      ]
     },
     "execution_count": 35,
     "metadata": {},
     "output_type": "execute_result"
    }
   ],
   "source": [
    "ns.doc"
   ]
  },
  {
   "cell_type": "code",
   "execution_count": 36,
   "id": "6af1996f",
   "metadata": {},
   "outputs": [
    {
     "data": {
      "text/html": [
       "<div>\n",
       "<style scoped>\n",
       "    .dataframe tbody tr th:only-of-type {\n",
       "        vertical-align: middle;\n",
       "    }\n",
       "\n",
       "    .dataframe tbody tr th {\n",
       "        vertical-align: top;\n",
       "    }\n",
       "\n",
       "    .dataframe thead th {\n",
       "        text-align: right;\n",
       "    }\n",
       "</style>\n",
       "<table border=\"1\" class=\"dataframe\">\n",
       "  <thead>\n",
       "    <tr style=\"text-align: right;\">\n",
       "      <th></th>\n",
       "      <th>name</th>\n",
       "      <th>entity</th>\n",
       "    </tr>\n",
       "  </thead>\n",
       "  <tbody>\n",
       "    <tr>\n",
       "      <th>0</th>\n",
       "      <td>Ryan Willett</td>\n",
       "      <td>PERSON</td>\n",
       "    </tr>\n",
       "    <tr>\n",
       "      <th>1</th>\n",
       "      <td>Columbia University</td>\n",
       "      <td>ORG</td>\n",
       "    </tr>\n",
       "    <tr>\n",
       "      <th>2</th>\n",
       "      <td>New York City</td>\n",
       "      <td>GPE</td>\n",
       "    </tr>\n",
       "    <tr>\n",
       "      <th>3</th>\n",
       "      <td>the United States</td>\n",
       "      <td>GPE</td>\n",
       "    </tr>\n",
       "    <tr>\n",
       "      <th>4</th>\n",
       "      <td>2003-02-11</td>\n",
       "      <td>DATE</td>\n",
       "    </tr>\n",
       "  </tbody>\n",
       "</table>\n",
       "</div>"
      ],
      "text/plain": [
       "                  name  entity\n",
       "0         Ryan Willett  PERSON\n",
       "1  Columbia University     ORG\n",
       "2        New York City     GPE\n",
       "3    the United States     GPE\n",
       "4           2003-02-11    DATE"
      ]
     },
     "execution_count": 36,
     "metadata": {},
     "output_type": "execute_result"
    }
   ],
   "source": [
    "ns.entities"
   ]
  },
  {
   "cell_type": "code",
   "execution_count": 5,
   "id": "4ad1dcfa",
   "metadata": {},
   "outputs": [
    {
     "data": {
      "text/plain": [
       "{'persons': ['Ryan Willett'],\n",
       " 'orgs': ['Columbia University'],\n",
       " 'min_date': '2003-02-11',\n",
       " 'max_date': '2012-01-01',\n",
       " 'urls': ['www.brandeis.edu']}"
      ]
     },
     "execution_count": 5,
     "metadata": {},
     "output_type": "execute_result"
    }
   ],
   "source": [
    "ns.data"
   ]
  },
  {
   "cell_type": "code",
   "execution_count": 6,
   "id": "03bbeb9a",
   "metadata": {},
   "outputs": [
    {
     "data": {
      "text/plain": [
       "'Create a search for the scientist Ryan Willett who attended Columbia University after 2003-02-11 and before 2012 on www.brandeis.edu'"
      ]
     },
     "execution_count": 6,
     "metadata": {},
     "output_type": "execute_result"
    }
   ],
   "source": [
    "ns.text"
   ]
  },
  {
   "cell_type": "code",
   "execution_count": 14,
   "id": "c4ef03d6",
   "metadata": {},
   "outputs": [],
   "source": [
    "urls = 'Ryan Willett Columbia University ryan.willett@gmail.com www.google.com  www.columbia.edu  rtwillett.github.io testing.'.lower()"
   ]
  },
  {
   "cell_type": "code",
   "execution_count": null,
   "id": "fb652239",
   "metadata": {},
   "outputs": [],
   "source": []
  },
  {
   "cell_type": "code",
   "execution_count": 15,
   "id": "7bdc125c",
   "metadata": {},
   "outputs": [],
   "source": [
    "# with open('./data/ip_domains.txt', mode='r') as f: \n",
    "#     data_raw = f.read()\n",
    "#     data = data_raw.split('\\n')"
   ]
  },
  {
   "cell_type": "code",
   "execution_count": 16,
   "id": "1ec6aa63",
   "metadata": {},
   "outputs": [],
   "source": [
    "# [d.lower() for d in data if '#' not in d]"
   ]
  },
  {
   "cell_type": "code",
   "execution_count": 19,
   "id": "3c679b59",
   "metadata": {},
   "outputs": [
    {
     "data": {
      "text/plain": [
       "['www.google.com', 'www.columbia.edu', 'rtwillett.github.io']"
      ]
     },
     "execution_count": 19,
     "metadata": {},
     "output_type": "execute_result"
    }
   ],
   "source": [
    "import re\n",
    "url_pat = [i for i in urls.split() if ('.' in i) and ('@' not in i) and (not re.search('\\.$', i))]\n",
    "\n",
    "# [i for i in re.findall('[a-z0-9-_.]{1,}', url_pat) if re.search('[.]', i)]\n",
    "url_pat"
   ]
  },
  {
   "cell_type": "code",
   "execution_count": null,
   "id": "245c6d1a",
   "metadata": {},
   "outputs": [],
   "source": []
  },
  {
   "cell_type": "code",
   "execution_count": 12,
   "id": "06e11572",
   "metadata": {},
   "outputs": [
    {
     "data": {
      "text/plain": [
       "{}"
      ]
     },
     "execution_count": 12,
     "metadata": {},
     "output_type": "execute_result"
    }
   ],
   "source": [
    "ns.ner_extracts"
   ]
  },
  {
   "cell_type": "code",
   "execution_count": null,
   "id": "699b24f9",
   "metadata": {},
   "outputs": [],
   "source": [
    "ns.ner_extracts['PERSON']"
   ]
  },
  {
   "cell_type": "code",
   "execution_count": null,
   "id": "afd47068",
   "metadata": {},
   "outputs": [],
   "source": []
  }
 ],
 "metadata": {
  "kernelspec": {
   "display_name": "Python 3",
   "language": "python",
   "name": "python3"
  },
  "language_info": {
   "codemirror_mode": {
    "name": "ipython",
    "version": 3
   },
   "file_extension": ".py",
   "mimetype": "text/x-python",
   "name": "python",
   "nbconvert_exporter": "python",
   "pygments_lexer": "ipython3",
   "version": "3.7.3"
  }
 },
 "nbformat": 4,
 "nbformat_minor": 5
}
